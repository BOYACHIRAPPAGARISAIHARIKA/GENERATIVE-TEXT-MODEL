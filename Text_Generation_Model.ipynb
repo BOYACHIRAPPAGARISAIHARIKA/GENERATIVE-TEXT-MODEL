# %% [markdown]
# # Text Generation Model
# ## Implementation with LSTM and GPT-2

# %% [markdown]
# ## Step 1: Environment Setup
!pip install tensorflow transformers torch numpy

# %% [markdown]
# ## Step 2: LSTM Model Implementation

# %% [code]
import numpy as np
import tensorflow as tf
from tensorflow.keras.models import Sequential
from tensorflow.keras.layers import Embedding, LSTM, Dense
from tensorflow.keras.preprocessing.text import Tokenizer
from tensorflow.keras.preprocessing.sequence import pad_sequences

# Load and preprocess data
url = 'https://storage.googleapis.com/download.tensorflow.org/data/shakespeare.txt'
path = tf.keras.utils.get_file('shakespeare.txt', url)
text = open(path, 'rb').read().decode(encoding='utf-8')[:10000]

# Tokenization
tokenizer = Tokenizer()
tokenizer.fit_on_texts([text])
total_words = len(tokenizer.word_index) + 1

# Create training sequences
input_sequences = []
for line in text.split('\n'):
    token_list = tokenizer.texts_to_sequences([line])[0]
    for i in range(1, len(token_list)):
        n_gram_sequence = token_list[:i+1]
        input_sequences.append(n_gram_sequence)

# Pad sequences
max_sequence_len = max([len(x) for x in input_sequences])
input_sequences = pad_sequences(input_sequences, maxlen=max_sequence_len, padding='pre')

# Create features and labels
X = input_sequences[:, :-1]
y = input_sequences[:, -1]
y = tf.keras.utils.to_categorical(y, num_classes=total_words)

# Build LSTM model
model = Sequential([
    Embedding(total_words, 64, input_length=max_sequence_len-1),
    LSTM(128, return_sequences=True),
    LSTM(64),
    Dense(total_words, activation='softmax')
])
model.compile(loss='categorical_crossentropy', optimizer='adam', metrics=['accuracy'])
model.summary()

# Train model
model.fit(X, y, epochs=50, batch_size=32, verbose=1)

# Text generation function
def generate_lstm_text(seed_text, num_words=30):
    for _ in range(num_words):
        token_list = tokenizer.texts_to_sequences([seed_text])[0]
        token_list = pad_sequences([token_list], maxlen=max_sequence_len-1, padding='pre')
        predicted_probs = model.predict(token_list, verbose=0)
        predicted_index = np.argmax(predicted_probs, axis=-1)[0]
        output_word = ""
        for word, index in tokenizer.word_index.items():
            if index == predicted_index:
                output_word = word
                break
        seed_text += " " + output_word
    return seed_text

# %% [markdown]
# ## Step 3: GPT-2 Implementation

# %% [code]
from transformers import GPT2LMHeadModel, GPT2Tokenizer

# Load pre-trained model and tokenizer
tokenizer_gpt = GPT2Tokenizer.from_pretrained('gpt2-medium')
model_gpt = GPT2LMHeadModel.from_pretrained('gpt2-medium')

def generate_gpt2_text(prompt, max_length=100, temperature=0.9):
    inputs = tokenizer_gpt.encode(prompt, return_tensors='pt')
    outputs = model_gpt.generate(
        inputs,
        max_length=max_length,
        temperature=temperature,
        do_sample=True,
        top_k=50
    )
    return tokenizer_gpt.decode(outputs[0], skip_special_tokens=True)

# %% [markdown]
# ## Step 4: Generate Text with Both Models

# %% [code]
prompt = "The future of renewable energy"

print("LSTM Generated Text:")
print(generate_lstm_text(prompt))
print("\n" + "-"*50 + "\n")
print("GPT-2 Generated Text:")
print(generate_gpt2_text(prompt))

# %% [markdown]
# ## Sample Output
# ```
# LSTM Generated Text:
# The future of renewable energy will be the most powerful and the world will be the most powerful and the world will be...
# 
# --------------------------------------------------
# 
# GPT-2 Generated Text:
# The future of renewable energy holds immense potential for transforming global energy systems. With advancements in solar panel efficiency and wind turbine technology, we're moving towards a sustainable energy paradigm. However, challenges in energy storage and grid infrastructure require innovative solutions...
# ```
